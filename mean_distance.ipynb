{
 "cells": [
  {
   "cell_type": "code",
   "execution_count": 3,
   "metadata": {},
   "outputs": [
    {
     "name": "stdout",
     "output_type": "stream",
     "text": [
      "Distance between mean of 0 and 1 is 1654.65502642\n",
      "Distance between mean of 0 and 2 is 1584.84067395\n",
      "Distance between mean of 0 and 3 is 1882.42182022\n",
      "Distance between mean of 0 and 4 is 2110.08400562\n",
      "Distance between mean of 0 and 5 is 1961.0924975\n",
      "Distance between mean of 0 and 6 is 2424.21760744\n",
      "Distance between mean of 0 and 7 is 1654.70566957\n",
      "Distance between mean of 0 and 8 is 919.950675423\n",
      "Distance between mean of 0 and 9 is 1437.56318585\n",
      "Distance between mean of 1 and 2 is 883.9537723\n",
      "Distance between mean of 1 and 3 is 1026.71613191\n",
      "Distance between mean of 1 and 4 is 1137.7623113\n",
      "Distance between mean of 1 and 5 is 1218.77343484\n",
      "Distance between mean of 1 and 6 is 1193.44256346\n",
      "Distance between mean of 1 and 7 is 954.332214751\n",
      "Distance between mean of 1 and 8 is 1307.95012404\n",
      "Distance between mean of 1 and 9 is 944.62839019\n",
      "Distance between mean of 2 and 3 is 521.368930822\n",
      "Distance between mean of 2 and 4 is 585.999634939\n",
      "Distance between mean of 2 and 5 is 713.233960968\n",
      "Distance between mean of 2 and 6 is 913.949896968\n",
      "Distance between mean of 2 and 7 is 415.382114529\n",
      "Distance between mean of 2 and 8 is 1562.05786819\n",
      "Distance between mean of 2 and 9 is 1418.97236858\n",
      "Distance between mean of 3 and 4 is 465.804686838\n",
      "Distance between mean of 3 and 5 is 405.307425679\n",
      "Distance between mean of 3 and 6 is 681.115281439\n",
      "Distance between mean of 3 and 7 is 594.150860822\n",
      "Distance between mean of 3 and 8 is 1849.63532699\n",
      "Distance between mean of 3 and 9 is 1678.7066675\n",
      "Distance between mean of 4 and 5 is 605.123522406\n",
      "Distance between mean of 4 and 6 is 473.232006603\n",
      "Distance between mean of 4 and 7 is 659.798284577\n",
      "Distance between mean of 4 and 8 is 2056.26039521\n",
      "Distance between mean of 4 and 9 is 1823.71662891\n",
      "Distance between mean of 5 and 6 is 815.614486284\n",
      "Distance between mean of 5 and 7 is 848.725135944\n",
      "Distance between mean of 5 and 8 is 1909.44651683\n",
      "Distance between mean of 5 and 9 is 1889.68563714\n",
      "Distance between mean of 6 and 7 is 941.534183321\n",
      "Distance between mean of 6 and 8 is 2253.5337976\n",
      "Distance between mean of 6 and 9 is 1914.90373081\n",
      "Distance between mean of 7 and 8 is 1678.55185516\n",
      "Distance between mean of 7 and 9 is 1364.99251405\n",
      "Distance between mean of 8 and 9 is 1074.06578158\n"
     ]
    }
   ],
   "source": [
    "import numpy as np\n",
    "from numpy import linalg as LA\n",
    "import matplotlib.pyplot as plt\n",
    "def unpickle(file):\n",
    "    import pickle\n",
    "    with open(file, 'rb') as fo:\n",
    "        dict = pickle.load(fo, encoding='bytes')\n",
    "    return dict\n",
    "data=np.array(unpickle('data_batch_1') [b'data'])\n",
    "label=np.array(unpickle('data_batch_1') [b'labels'])\n",
    "for i in range(2,6):\n",
    "    data_dict = unpickle('data_batch_'+str(i))\n",
    "    data = np.concatenate((data, data_dict[b'data']))\n",
    "    label = np.concatenate((label, data_dict[b'labels']))\n",
    "all_means=np.array([np.mean(data[label==i],axis=0) for i in range(0,10)])\n",
    "for i in range(0,10):\n",
    "    for j in range(i+1,10):\n",
    "        dist=np.linalg.norm(all_means[i]-all_means[j])\n",
    "        print(\"Distance between mean of\", i , \"and\", j, \"is\", dist)\n"
   ]
  }
 ],
 "metadata": {
  "kernelspec": {
   "display_name": "Python 3",
   "language": "python",
   "name": "python3"
  },
  "language_info": {
   "codemirror_mode": {
    "name": "ipython",
    "version": 3
   },
   "file_extension": ".py",
   "mimetype": "text/x-python",
   "name": "python",
   "nbconvert_exporter": "python",
   "pygments_lexer": "ipython3",
   "version": "3.6.3"
  }
 },
 "nbformat": 4,
 "nbformat_minor": 2
}
