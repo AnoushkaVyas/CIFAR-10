{
 "cells": [
  {
   "cell_type": "code",
   "execution_count": 12,
   "metadata": {
    "collapsed": true
   },
   "outputs": [],
   "source": [
    "import numpy as np\n",
    "from numpy import linalg as LA\n",
    "import matplotlib.pyplot as plt\n",
    "def unpickle(file):\n",
    "    import pickle\n",
    "    with open(file, 'rb') as fo:\n",
    "        dict = pickle.load(fo, encoding='bytes')\n",
    "    return dict\n",
    "data=np.array(unpickle('data_batch_1') [b'data'])\n",
    "label=np.array(unpickle('data_batch_1') [b'labels'])\n",
    "for i in range(2,6):\n",
    "    data_dict = unpickle('data_batch_'+str(i))\n",
    "    data = np.concatenate((data, data_dict[b'data']))\n",
    "    label = np.concatenate((label, data_dict[b'labels']))"
   ]
  },
  {
   "cell_type": "code",
   "execution_count": 13,
   "metadata": {
    "collapsed": true
   },
   "outputs": [],
   "source": [
    "cat_data=[]\n",
    "for i in range(0,10):\n",
    "    cat_data.append(data[label==i])"
   ]
  },
  {
   "cell_type": "code",
   "execution_count": 18,
   "metadata": {
    "collapsed": true
   },
   "outputs": [],
   "source": [
    "all_cov=np.array([np.cov(data[label==i],rowvar=False) for i in range(0,10)])\n",
    "all_means=np.array([np.mean(data[label==i],axis=0) for i in range(0,10)])"
   ]
  },
  {
   "cell_type": "code",
   "execution_count": 29,
   "metadata": {
    "collapsed": true
   },
   "outputs": [],
   "source": [
    "eigv_20=[]\n",
    "for i in range(0,10):\n",
    "    eigv, ev= LA.eigh(all_cov[i])\n",
    "    eigv_20.append(ev[:,3052:3072])"
   ]
  },
  {
   "cell_type": "code",
   "execution_count": 25,
   "metadata": {
    "collapsed": true
   },
   "outputs": [],
   "source": [
    "def Error(cat,mean1,index):\n",
    "    new_data=np.matmul(np.matmul(cat-mean1,eigv_20[index]),eigv_20[index].transpose())\n",
    "    new_data=new_data+mean1\n",
    "    error1=np.sum(np.linalg.norm(cat-new_data,axis=1))/5000\n",
    "    return error1\n"
   ]
  },
  {
   "cell_type": "code",
   "execution_count": 32,
   "metadata": {},
   "outputs": [
    {
     "name": "stdout",
     "output_type": "stream",
     "text": [
      "The 3 most similar cases of 0 are\n",
      "[9 1 5]\n",
      "The 3 most similar cases of 1 are\n",
      "[7 5 9]\n",
      "The 3 most similar cases of 2 are\n",
      "[1 9 7]\n",
      "The 3 most similar cases of 3 are\n",
      "[1 9 7]\n",
      "The 3 most similar cases of 4 are\n",
      "[1 9 7]\n",
      "The 3 most similar cases of 5 are\n",
      "[1 9 7]\n",
      "The 3 most similar cases of 6 are\n",
      "[1 9 7]\n",
      "The 3 most similar cases of 7 are\n",
      "[1 9 5]\n",
      "The 3 most similar cases of 8 are\n",
      "[9 1 7]\n",
      "The 3 most similar cases of 9 are\n",
      "[1 7 5]\n"
     ]
    }
   ],
   "source": [
    "error=np.zeros((10,10))\n",
    "for i in range(10):\n",
    "    for j in range(i+1,10):\n",
    "        A=Error(cat_data[i],all_means[i],j)\n",
    "        B=Error(cat_data[j],all_means[j],i)\n",
    "        error[i][j]=(A+B)/2\n",
    "        error[j][i]=(A+B)/2\n",
    "    print(\"The 3 most similar cases of\", i ,\"are\")\n",
    "    print(np.argsort(np.array(error[i,:]))[7:][::-1])\n"
   ]
  }
 ],
 "metadata": {
  "kernelspec": {
   "display_name": "Python 3",
   "language": "python",
   "name": "python3"
  },
  "language_info": {
   "codemirror_mode": {
    "name": "ipython",
    "version": 3
   },
   "file_extension": ".py",
   "mimetype": "text/x-python",
   "name": "python",
   "nbconvert_exporter": "python",
   "pygments_lexer": "ipython3",
   "version": "3.6.3"
  }
 },
 "nbformat": 4,
 "nbformat_minor": 2
}
